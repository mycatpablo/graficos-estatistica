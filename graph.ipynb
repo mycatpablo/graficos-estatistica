{
 "cells": [
  {
   "cell_type": "markdown",
   "id": "d4d09307",
   "metadata": {},
   "source": [
    "## Trabalho de Estatística\n",
    "#### Este trabalho utiliza o Python com as bibliotecas matplotlib e pandas.\n",
    "\n",
    "Para começar, iniciamos com a instalação das bibliotecas necessárias."
   ]
  },
  {
   "cell_type": "code",
   "execution_count": null,
   "id": "47dd49bf",
   "metadata": {},
   "outputs": [],
   "source": [
    "! pip install matplotlib pandas"
   ]
  },
  {
   "cell_type": "markdown",
   "id": "5d8ed9cc",
   "metadata": {},
   "source": [
    "### Importação e definição de dependências\n",
    "Aqui, estamos a importar as bibliotecas necessárias, para os gráficos (matplotlib) e para a leitura dos dados (pandas), estamos a definir variáveis para serem utilizadas depois, e estamos a ler os dados disponibilizados."
   ]
  },
  {
   "cell_type": "code",
   "execution_count": null,
   "id": "ee242e9e",
   "metadata": {},
   "outputs": [],
   "source": [
    "import matplotlib.pyplot as plt # biblioteca para os gráficos\n",
    "import pandas as pd # biblioteca para a leitura dos dados\n",
    "from numpy.polynomial.polynomial import polyfit\n",
    "\n",
    "# linha de separação\n",
    "sep = '=' * 60\n",
    "\n",
    "# cores para os gráficos\n",
    "cores = {'setosa': 'r', 'versicolor': 'b', 'virginica': 'y'}\n",
    "marcadores = {'setosa': 'o', 'versicolor': 's', 'virginica': '^'}\n",
    "\n",
    "# carrega os dados disponibilizados\n",
    "try:\n",
    "    data = pd.read_csv('BD_iris-21.csv')\n",
    "except Exception as e:\n",
    "    print(f'Erro ao carregar os dados: {e}')\n",
    "else:\n",
    "    print('Dados carregados com sucesso!')"
   ]
  },
  {
   "cell_type": "markdown",
   "id": "42a3bc22",
   "metadata": {},
   "source": [
    "### Gráfico 1\n",
    "Neste primeiro gráfico, podemos observar a ligação entre o comprimento da pétala, por espécie de flor."
   ]
  },
  {
   "cell_type": "code",
   "execution_count": null,
   "id": "d743b886-2727-4803-8a87-249ed31f991c",
   "metadata": {},
   "outputs": [],
   "source": [
    "print(f'{sep}\\nGráfico 1: Comprimento da pétala por espécie de flor\\n{sep}') \n",
    "plt.bar(data['species'], data['petal_length'])\n",
    "plt.ylabel('Comprimento da pétala')\n",
    "plt.show()"
   ]
  },
  {
   "cell_type": "markdown",
   "id": "dc91bbd0",
   "metadata": {},
   "source": [
    "### Gráfico 2\n",
    "No gráfico seguinte, podemos observar a correlação entre o comprimento da sépala, por comprimento da pétala."
   ]
  },
  {
   "cell_type": "code",
   "execution_count": null,
   "id": "dc0b56a2",
   "metadata": {},
   "outputs": [],
   "source": [
    "print(f'{sep}\\nGráfico 2: Comprimento da sépala por comprimento da pétala\\n{sep}')\n",
    "\n",
    "for especie in data['species'].unique():\n",
    "    dados_especie = data[data['species'] == especie]\n",
    "    plt.scatter(dados_especie['sepal_length'], dados_especie['petal_length'], \n",
    "                c=cores[especie], marker=marcadores[especie], label=especie)\n",
    "b, m = polyfit(data['sepal_length'], data['petal_length'], 1)\n",
    "plt.plot(data['sepal_length'], b + m * data['sepal_length'], '-')\n",
    "plt.xlabel('Comprimento da sépala')\n",
    "plt.ylabel('Comprimento da pétala')\n",
    "plt.legend()\n",
    "plt.show()"
   ]
  },
  {
   "cell_type": "markdown",
   "id": "b06f233a",
   "metadata": {},
   "source": [
    "### Gráfico 3\n",
    "No terceiro gráfico, podemos ver a correlação entre o comprimento da pétala e a largura da pétala."
   ]
  },
  {
   "cell_type": "code",
   "execution_count": null,
   "id": "3ae60364",
   "metadata": {},
   "outputs": [],
   "source": [
    "print(f'{sep}\\nGráfico 3: Comprimento da pétala por largura da pétala\\n{sep}')\n",
    "for especie in data['species'].unique():\n",
    "    dados_especie = data[data['species'] == especie]\n",
    "    plt.scatter(dados_especie['petal_length'], dados_especie['petal_width'], \n",
    "                c=cores[especie], marker=marcadores[especie], label=especie)\n",
    "\n",
    "b, m = polyfit(data['petal_length'], data['petal_width'], 1)\n",
    "plt.plot(data['petal_length'], b + m * data['petal_length'], '-')\n",
    "plt.xlabel('Comprimento da pétala')\n",
    "plt.ylabel('Largura da pétala')\n",
    "plt.legend()\n",
    "plt.show()"
   ]
  },
  {
   "cell_type": "markdown",
   "id": "4ff1df15",
   "metadata": {},
   "source": [
    "### Gráfico 4\n",
    "Para haver um exemplo de um gráfico sem correlação, podemos observar a largura da sépala, pelo comprimento da pétala."
   ]
  },
  {
   "cell_type": "code",
   "execution_count": null,
   "id": "2d1127d9",
   "metadata": {},
   "outputs": [],
   "source": [
    "print(f'{sep}\\nGráfico 4: Largura da sépala por comprimento da pétala\\n{sep}')\n",
    "for especie in data['species'].unique():\n",
    "    dados_especie = data[data['species'] == especie]\n",
    "    plt.scatter(dados_especie['sepal_width'], dados_especie['petal_length'], \n",
    "                c=cores[especie], marker=marcadores[especie], label=especie)\n",
    "plt.xlabel('Largura da sépala')\n",
    "plt.ylabel('Comprimento da pétala')\n",
    "plt.legend()\n",
    "plt.show()"
   ]
  }
 ],
 "metadata": {
  "kernelspec": {
   "display_name": "Python 3",
   "language": "python",
   "name": "python3"
  },
  "language_info": {
   "codemirror_mode": {
    "name": "ipython",
    "version": 3
   },
   "file_extension": ".py",
   "mimetype": "text/x-python",
   "name": "python",
   "nbconvert_exporter": "python",
   "pygments_lexer": "ipython3",
   "version": "3.13.0"
  }
 },
 "nbformat": 4,
 "nbformat_minor": 5
}
